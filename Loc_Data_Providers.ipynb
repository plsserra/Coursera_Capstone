{
    "cells": [
        {
            "metadata": {
                "collapsed": true
            },
            "cell_type": "markdown",
            "source": "# Applied Data Science Capstone Coursera Course\n# This Peer Assignment considers:\n<ul>\n    <li>Github account creation</li>\n    <li>Nootebook open file creation</li>\n    <li>import of pandas and numpy libraries</li>\n    <li>Sharing notebook file appying Github repository</li>\n</ul>"
        },
        {
            "metadata": {},
            "cell_type": "code",
            "source": "# Importing Pandas and Numpy libraries\n\nimport numpy as np\nimport pandas as pd\n",
            "execution_count": 1,
            "outputs": []
        },
        {
            "metadata": {},
            "cell_type": "code",
            "source": "",
            "execution_count": null,
            "outputs": []
        }
    ],
    "metadata": {
        "kernelspec": {
            "name": "python3",
            "display_name": "Python 3.6",
            "language": "python"
        },
        "language_info": {
            "name": "python",
            "version": "3.6.9",
            "mimetype": "text/x-python",
            "codemirror_mode": {
                "name": "ipython",
                "version": 3
            },
            "pygments_lexer": "ipython3",
            "nbconvert_exporter": "python",
            "file_extension": ".py"
        }
    },
    "nbformat": 4,
    "nbformat_minor": 1
}